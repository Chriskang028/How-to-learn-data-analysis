{
 "cells": [
  {
   "cell_type": "code",
   "execution_count": 2,
   "metadata": {},
   "outputs": [],
   "source": [
    "import pandas as pd\n",
    "import numpy as np\n",
    "import matplotlib.pyplot as plt\n",
    "# import missingno as msno\n",
    "import seaborn as sns\n",
    "import calendar\n",
    "from datetime import datetime \n",
    "sns.set()\n",
    "\n",
    "# inline setting\n",
    "%matplotlib inline\n",
    "%config InlineBackend.figure_format=\"retina\""
   ]
  },
  {
   "cell_type": "code",
   "execution_count": 8,
   "metadata": {},
   "outputs": [],
   "source": [
    "df = pd.read_csv('Data/test.csv', index_col='datetime', parse_dates=True)"
   ]
  },
  {
   "cell_type": "code",
   "execution_count": 16,
   "metadata": {},
   "outputs": [
    {
     "name": "stdout",
     "output_type": "stream",
     "text": [
      "#######Data Shape\n",
      "(6493, 8)\n",
      "#######Data Head\n",
      "                     season  holiday  workingday  weather   temp   atemp  \\\n",
      "datetime                                                                   \n",
      "2011-01-20 00:00:00       1        0           1        1  10.66  11.365   \n",
      "2011-01-20 01:00:00       1        0           1        1  10.66  13.635   \n",
      "2011-01-20 02:00:00       1        0           1        1  10.66  13.635   \n",
      "2011-01-20 03:00:00       1        0           1        1  10.66  12.880   \n",
      "2011-01-20 04:00:00       1        0           1        1  10.66  12.880   \n",
      "\n",
      "                     humidity  windspeed  \n",
      "datetime                                  \n",
      "2011-01-20 00:00:00        56    26.0027  \n",
      "2011-01-20 01:00:00        56     0.0000  \n",
      "2011-01-20 02:00:00        56     0.0000  \n",
      "2011-01-20 03:00:00        56    11.0014  \n",
      "2011-01-20 04:00:00        56    11.0014  \n",
      "#######Data Info\n",
      "<class 'pandas.core.frame.DataFrame'>\n",
      "DatetimeIndex: 6493 entries, 2011-01-20 00:00:00 to 2012-12-31 23:00:00\n",
      "Data columns (total 8 columns):\n",
      "season        6493 non-null int64\n",
      "holiday       6493 non-null int64\n",
      "workingday    6493 non-null int64\n",
      "weather       6493 non-null int64\n",
      "temp          6493 non-null float64\n",
      "atemp         6493 non-null float64\n",
      "humidity      6493 non-null int64\n",
      "windspeed     6493 non-null float64\n",
      "dtypes: float64(3), int64(5)\n",
      "memory usage: 456.5 KB\n",
      "None\n",
      "#######Data Nunique\n",
      "season         4\n",
      "holiday        2\n",
      "workingday     2\n",
      "weather        4\n",
      "temp          49\n",
      "atemp         65\n",
      "humidity      79\n",
      "windspeed     27\n",
      "dtype: int64\n"
     ]
    }
   ],
   "source": [
    "print('#######Data Shape')\n",
    "print(df.shape)\n",
    "print('#######Data Head')\n",
    "print(df.head())\n",
    "print('#######Data Info')\n",
    "print(df.info())\n",
    "print('#######Data Nunique')\n",
    "print(df.nunique())"
   ]
  },
  {
   "cell_type": "code",
   "execution_count": 18,
   "metadata": {},
   "outputs": [],
   "source": [
    "df['season'] = df.season.astype('category')\n",
    "df['holiday'] = df.holiday.astype('category')\n",
    "df['workingday'] = df.workingday.astype('category')\n",
    "df['weather'] = df.weather.astype('category')"
   ]
  },
  {
   "cell_type": "code",
   "execution_count": 19,
   "metadata": {},
   "outputs": [
    {
     "name": "stdout",
     "output_type": "stream",
     "text": [
      "<class 'pandas.core.frame.DataFrame'>\n",
      "DatetimeIndex: 6493 entries, 2011-01-20 00:00:00 to 2012-12-31 23:00:00\n",
      "Data columns (total 8 columns):\n",
      "season        6493 non-null category\n",
      "holiday       6493 non-null category\n",
      "workingday    6493 non-null category\n",
      "weather       6493 non-null category\n",
      "temp          6493 non-null float64\n",
      "atemp         6493 non-null float64\n",
      "humidity      6493 non-null int64\n",
      "windspeed     6493 non-null float64\n",
      "dtypes: category(4), float64(3), int64(1)\n",
      "memory usage: 279.6 KB\n"
     ]
    }
   ],
   "source": [
    "df.info()"
   ]
  },
  {
   "cell_type": "code",
   "execution_count": null,
   "metadata": {},
   "outputs": [],
   "source": []
  }
 ],
 "metadata": {
  "kernelspec": {
   "display_name": "Python 3",
   "language": "python",
   "name": "python3"
  },
  "language_info": {
   "codemirror_mode": {
    "name": "ipython",
    "version": 3
   },
   "file_extension": ".py",
   "mimetype": "text/x-python",
   "name": "python",
   "nbconvert_exporter": "python",
   "pygments_lexer": "ipython3",
   "version": "3.7.4"
  }
 },
 "nbformat": 4,
 "nbformat_minor": 2
}
