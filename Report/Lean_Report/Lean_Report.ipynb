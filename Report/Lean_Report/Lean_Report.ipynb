{
 "cells": [
  {
   "cell_type": "code",
   "execution_count": 1,
   "metadata": {},
   "outputs": [],
   "source": [
    "import pandas as pd\n",
    "import numpy as np\n",
    "\n",
    "# import necessary file\n",
    "from datetime import datetime\n",
    "from tqdm.notebook import tqdm, tnrange\n",
    "tqdm.pandas(desc=\"Loading...\")\n",
    "\n",
    "# Setting the pyecharts config\n",
    "from pyecharts.globals import CurrentConfig, NotebookType\n",
    "CurrentConfig.NOTEBOOK_TYPE = NotebookType.JUPYTER_LAB\n",
    "\n",
    "# Define pyecharts theme\n",
    "from pyecharts.globals import ThemeType\n",
    "\n",
    "# setting pyecharts' charts\n",
    "from pyecharts.charts import Funnel, Bar, Line, Grid, TreeMap, Page, Pie\n",
    "from pyecharts import options as opts"
   ]
  },
  {
   "cell_type": "code",
   "execution_count": 43,
   "metadata": {},
   "outputs": [
    {
     "name": "stdout",
     "output_type": "stream",
     "text": [
      "Finished loading! The file length is 100150807 rows\n"
     ]
    }
   ],
   "source": [
    "#importing all data\n",
    "df = pd.read_csv('../Data/UserBehavior_2019.csv', header=None, parse_dates=True)\n",
    "print('Finished loading! The file length is {} rows'.format(len(df)))"
   ]
  },
  {
   "cell_type": "code",
   "execution_count": 44,
   "metadata": {},
   "outputs": [
    {
     "name": "stdout",
     "output_type": "stream",
     "text": [
      "Renaming Columns...\n",
      "Finished Renaming column...\n"
     ]
    }
   ],
   "source": [
    "# 重新命名欄位\n",
    "print('Renaming Columns...')\n",
    "\n",
    "df.columns = ['User_Id', 'Item_Id', 'Category_Id', 'Behavior', 'Time']\n",
    "\n",
    "print('Finished Renaming column...')"
   ]
  },
  {
   "cell_type": "code",
   "execution_count": null,
   "metadata": {},
   "outputs": [],
   "source": [
    "time = df[['Time', \"Behavior\", 'User_Id']].groupby('User_Id')['Behavior'].count()"
   ]
  },
  {
   "cell_type": "code",
   "execution_count": 81,
   "metadata": {},
   "outputs": [
    {
     "data": {
      "text/html": [
       "<div>\n",
       "<style scoped>\n",
       "    .dataframe tbody tr th:only-of-type {\n",
       "        vertical-align: middle;\n",
       "    }\n",
       "\n",
       "    .dataframe tbody tr th {\n",
       "        vertical-align: top;\n",
       "    }\n",
       "\n",
       "    .dataframe thead th {\n",
       "        text-align: right;\n",
       "    }\n",
       "</style>\n",
       "<table border=\"1\" class=\"dataframe\">\n",
       "  <thead>\n",
       "    <tr style=\"text-align: right;\">\n",
       "      <th></th>\n",
       "      <th>Time</th>\n",
       "    </tr>\n",
       "    <tr>\n",
       "      <th>User_Id</th>\n",
       "      <th></th>\n",
       "    </tr>\n",
       "  </thead>\n",
       "  <tbody>\n",
       "    <tr>\n",
       "      <th>1</th>\n",
       "      <td>55</td>\n",
       "    </tr>\n",
       "    <tr>\n",
       "      <th>2</th>\n",
       "      <td>71</td>\n",
       "    </tr>\n",
       "    <tr>\n",
       "      <th>3</th>\n",
       "      <td>53</td>\n",
       "    </tr>\n",
       "    <tr>\n",
       "      <th>4</th>\n",
       "      <td>285</td>\n",
       "    </tr>\n",
       "    <tr>\n",
       "      <th>5</th>\n",
       "      <td>64</td>\n",
       "    </tr>\n",
       "    <tr>\n",
       "      <th>...</th>\n",
       "      <td>...</td>\n",
       "    </tr>\n",
       "    <tr>\n",
       "      <th>1018007</th>\n",
       "      <td>162</td>\n",
       "    </tr>\n",
       "    <tr>\n",
       "      <th>1018008</th>\n",
       "      <td>49</td>\n",
       "    </tr>\n",
       "    <tr>\n",
       "      <th>1018009</th>\n",
       "      <td>311</td>\n",
       "    </tr>\n",
       "    <tr>\n",
       "      <th>1018010</th>\n",
       "      <td>80</td>\n",
       "    </tr>\n",
       "    <tr>\n",
       "      <th>1018011</th>\n",
       "      <td>42</td>\n",
       "    </tr>\n",
       "  </tbody>\n",
       "</table>\n",
       "<p>987994 rows × 1 columns</p>\n",
       "</div>"
      ],
      "text/plain": [
       "         Time\n",
       "User_Id      \n",
       "1          55\n",
       "2          71\n",
       "3          53\n",
       "4         285\n",
       "5          64\n",
       "...       ...\n",
       "1018007   162\n",
       "1018008    49\n",
       "1018009   311\n",
       "1018010    80\n",
       "1018011    42\n",
       "\n",
       "[987994 rows x 1 columns]"
      ]
     },
     "execution_count": 81,
     "metadata": {},
     "output_type": "execute_result"
    }
   ],
   "source": [
    "time"
   ]
  },
  {
   "cell_type": "code",
   "execution_count": 78,
   "metadata": {},
   "outputs": [
    {
     "data": {
      "text/plain": [
       "<function list.count>"
      ]
     },
     "execution_count": 78,
     "metadata": {},
     "output_type": "execute_result"
    }
   ],
   "source": [
    "# t = time.value_counts()\n",
    "# t.plot(kind='bar')"
   ]
  },
  {
   "cell_type": "code",
   "execution_count": 15,
   "metadata": {},
   "outputs": [
    {
     "name": "stdout",
     "output_type": "stream",
     "text": [
      "Filtering data...\n",
      "Filtering data Finished...\n"
     ]
    }
   ],
   "source": [
    "# 轉換資料型態\n",
    "df['Behavior'] = df.Behavior.astype('category')\n",
    "df['Time'] = pd.to_datetime(df['Time'], unit=\"s\")\n",
    "\n",
    "# 過濾超出時間範圍的資料\n",
    "print('Filtering data...')\n",
    "\n",
    "mask_1 = df['Time'] >= datetime(2017,11,25)\n",
    "mask_2 = df['Time'] <= datetime(2017,12,3)\n",
    "df = df[mask_1 & mask_2]\n",
    "\n",
    "print('Filtering data Finished...')"
   ]
  },
  {
   "cell_type": "code",
   "execution_count": 16,
   "metadata": {},
   "outputs": [
    {
     "name": "stdout",
     "output_type": "stream",
     "text": [
      "<class 'pandas.core.frame.DataFrame'>\n",
      "Int64Index: 86953655 entries, 2 to 100150794\n",
      "Data columns (total 5 columns):\n",
      " #   Column       Dtype         \n",
      "---  ------       -----         \n",
      " 0   User_Id      int64         \n",
      " 1   Item_Id      int64         \n",
      " 2   Category_Id  int64         \n",
      " 3   Behavior     category      \n",
      " 4   Time         datetime64[ns]\n",
      "dtypes: category(1), datetime64[ns](1), int64(3)\n",
      "memory usage: 3.3 GB\n"
     ]
    }
   ],
   "source": [
    "df.info()"
   ]
  },
  {
   "cell_type": "code",
   "execution_count": 17,
   "metadata": {},
   "outputs": [
    {
     "data": {
      "text/html": [
       "<div>\n",
       "<style scoped>\n",
       "    .dataframe tbody tr th:only-of-type {\n",
       "        vertical-align: middle;\n",
       "    }\n",
       "\n",
       "    .dataframe tbody tr th {\n",
       "        vertical-align: top;\n",
       "    }\n",
       "\n",
       "    .dataframe thead th {\n",
       "        text-align: right;\n",
       "    }\n",
       "</style>\n",
       "<table border=\"1\" class=\"dataframe\">\n",
       "  <thead>\n",
       "    <tr style=\"text-align: right;\">\n",
       "      <th></th>\n",
       "      <th>User_Id</th>\n",
       "      <th>Item_Id</th>\n",
       "      <th>Category_Id</th>\n",
       "      <th>Behavior</th>\n",
       "      <th>Time</th>\n",
       "    </tr>\n",
       "  </thead>\n",
       "  <tbody>\n",
       "    <tr>\n",
       "      <th>2</th>\n",
       "      <td>1</td>\n",
       "      <td>2576651</td>\n",
       "      <td>149192</td>\n",
       "      <td>pv</td>\n",
       "      <td>2017-11-25 01:21:25</td>\n",
       "    </tr>\n",
       "    <tr>\n",
       "      <th>3</th>\n",
       "      <td>1</td>\n",
       "      <td>3830808</td>\n",
       "      <td>4181361</td>\n",
       "      <td>pv</td>\n",
       "      <td>2017-11-25 07:04:53</td>\n",
       "    </tr>\n",
       "    <tr>\n",
       "      <th>4</th>\n",
       "      <td>1</td>\n",
       "      <td>4365585</td>\n",
       "      <td>2520377</td>\n",
       "      <td>pv</td>\n",
       "      <td>2017-11-25 07:49:06</td>\n",
       "    </tr>\n",
       "    <tr>\n",
       "      <th>5</th>\n",
       "      <td>1</td>\n",
       "      <td>4606018</td>\n",
       "      <td>2735466</td>\n",
       "      <td>pv</td>\n",
       "      <td>2017-11-25 13:28:01</td>\n",
       "    </tr>\n",
       "    <tr>\n",
       "      <th>6</th>\n",
       "      <td>1</td>\n",
       "      <td>230380</td>\n",
       "      <td>411153</td>\n",
       "      <td>pv</td>\n",
       "      <td>2017-11-25 21:22:22</td>\n",
       "    </tr>\n",
       "  </tbody>\n",
       "</table>\n",
       "</div>"
      ],
      "text/plain": [
       "   User_Id  Item_Id  Category_Id Behavior                Time\n",
       "2        1  2576651       149192       pv 2017-11-25 01:21:25\n",
       "3        1  3830808      4181361       pv 2017-11-25 07:04:53\n",
       "4        1  4365585      2520377       pv 2017-11-25 07:49:06\n",
       "5        1  4606018      2735466       pv 2017-11-25 13:28:01\n",
       "6        1   230380       411153       pv 2017-11-25 21:22:22"
      ]
     },
     "execution_count": 17,
     "metadata": {},
     "output_type": "execute_result"
    }
   ],
   "source": [
    "df.head()"
   ]
  },
  {
   "cell_type": "markdown",
   "metadata": {},
   "source": [
    "## 用戶數據分析內容\n",
    "\n",
    "### AARRR 模型"
   ]
  },
  {
   "cell_type": "code",
   "execution_count": 18,
   "metadata": {},
   "outputs": [],
   "source": [
    "# 縮減資料量\n",
    "df_behav = df[['Time', 'Behavior']]"
   ]
  },
  {
   "cell_type": "code",
   "execution_count": 19,
   "metadata": {},
   "outputs": [
    {
     "name": "stdout",
     "output_type": "stream",
     "text": [
      "<class 'pandas.core.frame.DataFrame'>\n",
      "Int64Index: 86953655 entries, 2 to 100150794\n",
      "Data columns (total 2 columns):\n",
      " #   Column    Dtype         \n",
      "---  ------    -----         \n",
      " 0   Time      datetime64[ns]\n",
      " 1   Behavior  category      \n",
      "dtypes: category(1), datetime64[ns](1)\n",
      "memory usage: 1.4 GB\n"
     ]
    }
   ],
   "source": [
    "df_behav.info()"
   ]
  },
  {
   "cell_type": "code",
   "execution_count": null,
   "metadata": {},
   "outputs": [],
   "source": [
    "# 轉換資料\n",
    "print('Transforming the data to seperate column as Week and Hour')\n",
    "%time df_behav['Date'] = df_behav.Time.dt.strftime(\"%Y-%m-%d\").astype('category')"
   ]
  },
  {
   "cell_type": "code",
   "execution_count": null,
   "metadata": {},
   "outputs": [],
   "source": [
    "%time df_behav['Hour'] = df_behav.Time.dt.strftime(\"%H\").astype('category')"
   ]
  },
  {
   "cell_type": "code",
   "execution_count": null,
   "metadata": {},
   "outputs": [],
   "source": [
    "%time df_behav['Week'] = df_behav.Time.dt.strftime(\"%A\").astype('category')\n",
    "print('Finished Transforming!')"
   ]
  },
  {
   "cell_type": "code",
   "execution_count": null,
   "metadata": {},
   "outputs": [],
   "source": [
    "df_behav.info()"
   ]
  },
  {
   "cell_type": "code",
   "execution_count": null,
   "metadata": {},
   "outputs": [],
   "source": [
    "# 用於讀取 Pyecharts 所需的 Javascript 文件\n",
    "Bar().load_javascript()"
   ]
  },
  {
   "cell_type": "code",
   "execution_count": null,
   "metadata": {},
   "outputs": [],
   "source": [
    "def week_behav(col):\n",
    "    '''\n",
    "    先把日期過濾成一週，再把數據進行透視分析以取出各項數據。\n",
    "    '''\n",
    "    df_week = df_behav[(df_behav['Time'] >= pd.to_datetime(\"2017-11-26\")) & (df_behav['Time'] < pd.to_datetime(\"2017-12-03\"))]\n",
    "    behavior = df_week.pivot_table(index=\"Date\", columns=\"Behavior\", aggfunc=['count']).iloc[:, :4]\n",
    "    behavior.columns = ['buy', 'cart', 'fav', 'pv']\n",
    "    behavior = behavior.reset_index()[col].to_list()\n",
    "    return behavior"
   ]
  },
  {
   "cell_type": "code",
   "execution_count": null,
   "metadata": {},
   "outputs": [],
   "source": [
    "def week_chart():\n",
    "    week_day = ['Sun', 'Mon', 'Tues', 'Wed', 'Thur', 'Fri', 'Sat']\n",
    "    bar = (\n",
    "        Bar()\n",
    "        .add_xaxis(week_day)\n",
    "        .add_yaxis(\"購買量\", week_behav(\"buy\"), stack=\"stack_1\", category_gap=60)\n",
    "        .add_yaxis(\"購物車數量\", week_behav(\"cart\"), stack=\"stack_1\", category_gap=60)\n",
    "        .add_yaxis(\"我的最愛\", week_behav(\"fav\"), stack=\"stack_1\", category_gap=60)\n",
    "        .set_series_opts(\n",
    "            label_opts=opts.LabelOpts(is_show=True)\n",
    "        )\n",
    "        .set_global_opts(\n",
    "            title_opts=opts.TitleOpts(\n",
    "                title=\"用戶變化週期曲線\"\n",
    "            ),\n",
    "            legend_opts=opts.LegendOpts(\n",
    "                pos_top=\"5%\"\n",
    "            )\n",
    "        )\n",
    "    )\n",
    "    \n",
    "    line = (\n",
    "        Line()\n",
    "        .add_xaxis(week_day)\n",
    "        .add_yaxis(\"瀏覽人次\", week_behav(\"pv\"))\n",
    "        .set_global_opts(\n",
    "            title_opts=opts.TitleOpts(\n",
    "                title=\"用戶瀏覽人次\",\n",
    "                pos_top=\"48%\",\n",
    "            ),\n",
    "            legend_opts=opts.LegendOpts(\n",
    "                pos_top=\"50%\"\n",
    "            )\n",
    "        )\n",
    "    )\n",
    "    \n",
    "    # 把兩張表格合在一起\n",
    "    grid = (\n",
    "        Grid()\n",
    "        .add(bar, grid_opts=opts.GridOpts(pos_bottom=\"60%\"))\n",
    "        .add(line, grid_opts=opts.GridOpts(pos_top=\"60%\"))\n",
    "    )\n",
    "    \n",
    "    return grid\n",
    "\n",
    "week_chart().render_notebook()"
   ]
  },
  {
   "cell_type": "markdown",
   "metadata": {},
   "source": [
    "### 每天用戶行為變化："
   ]
  },
  {
   "cell_type": "code",
   "execution_count": null,
   "metadata": {},
   "outputs": [],
   "source": [
    "def day_behav(date, col) -> list:\n",
    "    '''\n",
    "    選擇特定一天的數據來檢視該天的日期組成\n",
    "    '''\n",
    "    day = df_behav[df_behav['Date'] == date].pivot_table(index=\"Hour\", columns=\"Behavior\", aggfunc=['count']).iloc[:, :4]\n",
    "    day.columns = ['buy', 'cart', 'fav', 'pv']\n",
    "    hour = day.loc[:, col].to_list()\n",
    "    return hour"
   ]
  },
  {
   "cell_type": "code",
   "execution_count": null,
   "metadata": {},
   "outputs": [],
   "source": [
    "def day_chart(date):\n",
    "    hours = np.arange(24).tolist()\n",
    "    bar = (\n",
    "        Bar()\n",
    "        .add_xaxis(hours)\n",
    "        .add_yaxis(\"購買量\", day_behav(date, 'buy'), stack=\"stack_1\", category_gap=10)\n",
    "        .add_yaxis(\"購物車數量\", day_behav(date, 'cart'), stack=\"stack_1\", category_gap=10)\n",
    "        .add_yaxis(\"我的最愛\", day_behav(date, 'fav'), stack=\"stack_1\", category_gap=10)\n",
    "        .set_series_opts(\n",
    "            label_opts=opts.LabelOpts(is_show=False)\n",
    "        )\n",
    "        .set_global_opts(\n",
    "            title_opts=opts.TitleOpts(\n",
    "                title=\"{} 用戶變化週期曲線\".format(date)\n",
    "            ),\n",
    "            legend_opts=opts.LegendOpts(\n",
    "                pos_top=\"5%\"\n",
    "            )\n",
    "        )\n",
    "    )\n",
    "    \n",
    "    line = (\n",
    "        Line()\n",
    "        .add_xaxis(hours)\n",
    "        .add_yaxis(\"瀏覽人次\", day_behav(date, 'pv'))\n",
    "        .set_global_opts(\n",
    "            title_opts=opts.TitleOpts(\n",
    "                title=\"用戶瀏覽人次\",\n",
    "                pos_top=\"48%\",\n",
    "            ),\n",
    "            legend_opts=opts.LegendOpts(\n",
    "                pos_top=\"50%\"\n",
    "            )\n",
    "        )\n",
    "    )\n",
    "    \n",
    "    # 把兩張表格合在一起\n",
    "    grid = (\n",
    "        Grid()\n",
    "        .add(bar, grid_opts=opts.GridOpts(pos_bottom=\"60%\"))\n",
    "        .add(line, grid_opts=opts.GridOpts(pos_top=\"60%\"))\n",
    "    )\n",
    "    \n",
    "    return grid\n",
    "\n",
    "day_chart('2017-12-02').render_notebook()"
   ]
  },
  {
   "cell_type": "markdown",
   "metadata": {},
   "source": [
    "## 產品銷售樹圖\n",
    "### 銷售最佳排行"
   ]
  },
  {
   "cell_type": "code",
   "execution_count": null,
   "metadata": {},
   "outputs": [],
   "source": [
    "import json\n",
    "\n",
    "# 設定搜尋資料庫\n",
    "df_item = df[['Item_Id', 'Behavior']]\n",
    "\n",
    "def search_item_sales(behavior_Type):\n",
    "    # 篩選前 20 名的產品 ID\n",
    "    behav = df_item[df_item['Behavior'] == behavior_Type]\n",
    "    ranking = behav.groupby('Item_Id')['Behavior'].count().reset_index().sort_values('Behavior', ascending=False)\n",
    "    top_twenty_rank = ranking.iloc[:20,:].reset_index(drop=True).to_dict()\n",
    "    \n",
    "    # 進行資料轉換並儲存成 list 型態以供 pyechart tree Map 使用\n",
    "    item_list = []\n",
    "    for rank in range(20):\n",
    "        treemap = {}\n",
    "        treemap['value'] = top_twenty_rank['Behavior'][rank]\n",
    "        treemap['name'] = top_twenty_rank['Item_Id'][rank]\n",
    "        item_list.append(treemap)\n",
    "    \n",
    "    return item_list"
   ]
  },
  {
   "cell_type": "code",
   "execution_count": null,
   "metadata": {},
   "outputs": [],
   "source": [
    "def item_ranking(Behavior_Type) -> TreeMap:\n",
    "    data = [\n",
    "        {\n",
    "            \"name\": Behavior_Type,\n",
    "            \"children\": search_item_sales(Behavior_Type),   \n",
    "        }\n",
    "    ]\n",
    "    \n",
    "    treemap = (\n",
    "        TreeMap(\n",
    "            init_opts=opts.InitOpts(theme=\"light\")\n",
    "        )\n",
    "        .add(\"數量\", data, is_selected=True, roam='move',\n",
    "             label_opts=opts.LabelOpts(\n",
    "                 position='inside'\n",
    "             )   \n",
    "        )\n",
    "        .set_global_opts(\n",
    "            title_opts=opts.TitleOpts(\n",
    "                title=\"產品銷售商品排行\"\n",
    "            )\n",
    "        )\n",
    "    )\n",
    "    return treemap\n",
    "item_ranking('buy').render_notebook()"
   ]
  },
  {
   "cell_type": "code",
   "execution_count": null,
   "metadata": {},
   "outputs": [],
   "source": [
    "# 顯示購物車排行\n",
    "item_ranking('cart').render_notebook()"
   ]
  },
  {
   "cell_type": "code",
   "execution_count": null,
   "metadata": {},
   "outputs": [],
   "source": [
    "# 顯示我的最愛排行\n",
    "item_ranking('fav').render_notebook()"
   ]
  },
  {
   "cell_type": "code",
   "execution_count": null,
   "metadata": {},
   "outputs": [],
   "source": [
    "# 顯示瀏覽次數排行\n",
    "item_ranking('pv').render_notebook()"
   ]
  },
  {
   "cell_type": "markdown",
   "metadata": {},
   "source": [
    "## RFM Model\n",
    "### R"
   ]
  },
  {
   "cell_type": "code",
   "execution_count": null,
   "metadata": {},
   "outputs": [],
   "source": [
    "# 縮減資料量\n",
    "df_rfm = df.query('Behavior == \"buy\"').loc[:, ['User_Id', 'Time', 'Date']]\n",
    "df_rfm.info()"
   ]
  },
  {
   "cell_type": "code",
   "execution_count": null,
   "metadata": {},
   "outputs": [],
   "source": [
    "r_pivot = df_rfm.pivot_table(index=\"User_Id\", values=\"Time\", aggfunc=['max']).reset_index()\n",
    "r_pivot.columns = ['d', 'Time']\n",
    "r_pivot['R'] = (pd.to_datetime('2017-12-03') - r_pivot['Time']).dt.days\n",
    "r_pivot = r_pivot[['d', 'R']]\n",
    "r_pivot\n",
    "r_pivot['d'] = r_pivot.d.astype('str')\n",
    "r_pivot.info()"
   ]
  },
  {
   "cell_type": "markdown",
   "metadata": {},
   "source": [
    "### F"
   ]
  },
  {
   "cell_type": "code",
   "execution_count": null,
   "metadata": {},
   "outputs": [],
   "source": [
    "f = df_rfm.pivot_table(index=['User_Id', 'Date'], values='Date', aggfunc=['count']).reset_index()\n",
    "f.columns = ['Id', 'Date', 'Time']\n",
    "\n",
    "f = f.pivot_table(index=\"Id\", values='Time', aggfunc=['sum']).reset_index()\n",
    "f.columns = ['d', 'F']\n",
    "f = f[f['F'] > 0].reset_index(drop=True)"
   ]
  },
  {
   "cell_type": "code",
   "execution_count": null,
   "metadata": {},
   "outputs": [],
   "source": [
    "f['d'] = f.d.astype('str')\n",
    "f.info()"
   ]
  },
  {
   "cell_type": "code",
   "execution_count": null,
   "metadata": {},
   "outputs": [],
   "source": []
  },
  {
   "cell_type": "code",
   "execution_count": null,
   "metadata": {},
   "outputs": [],
   "source": []
  },
  {
   "cell_type": "code",
   "execution_count": null,
   "metadata": {},
   "outputs": [],
   "source": []
  },
  {
   "cell_type": "code",
   "execution_count": null,
   "metadata": {},
   "outputs": [],
   "source": []
  }
 ],
 "metadata": {
  "kernelspec": {
   "display_name": "Data Science",
   "language": "python",
   "name": "myenv"
  },
  "language_info": {
   "codemirror_mode": {
    "name": "ipython",
    "version": 3
   },
   "file_extension": ".py",
   "mimetype": "text/x-python",
   "name": "python",
   "nbconvert_exporter": "python",
   "pygments_lexer": "ipython3",
   "version": "3.6.10"
  }
 },
 "nbformat": 4,
 "nbformat_minor": 4
}
